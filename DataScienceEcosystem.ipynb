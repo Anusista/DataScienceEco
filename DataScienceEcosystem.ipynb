{
 "cells": [
  {
   "cell_type": "markdown",
   "id": "f95cf97a-e4b5-40d9-967e-3dde5977a314",
   "metadata": {},
   "source": [
    "#Heading"
   ]
  },
  {
   "cell_type": "markdown",
   "id": "29db1a89-0bee-437f-a10f-0d0446333551",
   "metadata": {},
   "source": [
    "# Data Science Tools and Ecosystem"
   ]
  },
  {
   "cell_type": "markdown",
   "id": "1728eea8-58d4-408d-b072-fc1d9adf4ca8",
   "metadata": {},
   "source": [
    "In this notebook, Data Science Tools and Ecosystem are summarized."
   ]
  },
  {
   "cell_type": "markdown",
   "id": "dcdf507f-6fe9-4678-b7a3-f4038cc98e53",
   "metadata": {},
   "source": [
    "**Objectives:**\n",
    "\n",
    "- Understand popular languages used in Data Science.\n",
    "- Explore commonly used development environment tools.\n",
    "- Learn about arithmetic expressions and evaluations in Python.\n",
    "- Introduce basic structure and formatting in Jupyter Notebooks."
   ]
  },
  {
   "cell_type": "markdown",
   "id": "1f9c4b43-c6e2-4498-918e-ca4f2a42acfa",
   "metadata": {},
   "source": [
    "Some of the commonly used libraries used by Data Scientists include:\n",
    "1. Pandas\n",
    "2. Numpy\n",
    "3. Scikit-learn"
   ]
  },
  {
   "cell_type": "markdown",
   "id": "e92b5f3b-22d5-48f8-bd98-dd66975723c1",
   "metadata": {},
   "source": [
    "Some of the popular languages that Data Scientists use are:\r\n",
    "\r\n",
    "1. Python\r\n",
    "2. R\r\n",
    "3. SQL"
   ]
  },
  {
   "cell_type": "markdown",
   "id": "52763dfe-6a6a-457e-85c2-65004d156791",
   "metadata": {},
   "source": [
    "| Data Science Tools     |\r\n",
    "|------------------------|\r\n",
    "| Jupyter Notebooks      |\r\n",
    "| RStudio                |\r\n",
    "| VSCode (Visual Studio Code) |"
   ]
  },
  {
   "cell_type": "markdown",
   "id": "e22b28d0-d0dc-4e22-a5d9-706d9b6bb453",
   "metadata": {},
   "source": [
    "### Below are a few examples of evaluating arithmetic expressions in Python"
   ]
  },
  {
   "cell_type": "code",
   "execution_count": 2,
   "id": "e3bf7624-e314-479e-bec9-7c5f3174f131",
   "metadata": {},
   "outputs": [
    {
     "data": {
      "text/plain": [
       "17"
      ]
     },
     "execution_count": 2,
     "metadata": {},
     "output_type": "execute_result"
    }
   ],
   "source": [
    "# This is a simple arithmetic expression to multiply then add integers.\n",
    "result = (3 * 4) + 5\n",
    "result"
   ]
  },
  {
   "cell_type": "code",
   "execution_count": 3,
   "id": "68d7d0b2-90b0-47c4-a520-7a74ce8c74b4",
   "metadata": {},
   "outputs": [
    {
     "data": {
      "text/plain": [
       "3.3333333333333335"
      ]
     },
     "execution_count": 3,
     "metadata": {},
     "output_type": "execute_result"
    }
   ],
   "source": [
    "# This will convert 200 minutes to hours by dividing by 60.\n",
    "minutes = 200\n",
    "hours = minutes / 60\n",
    "hours"
   ]
  },
  {
   "cell_type": "markdown",
   "id": "e3956369-09f6-419b-b105-427b5a630d2e",
   "metadata": {},
   "source": [
    "##Author\n",
    "Anusista Sarangi"
   ]
  },
  {
   "cell_type": "code",
   "execution_count": null,
   "id": "3f29859b-9591-4f35-a3f1-95761e9a19f6",
   "metadata": {},
   "outputs": [],
   "source": []
  }
 ],
 "metadata": {
  "kernelspec": {
   "display_name": "Python 3 (ipykernel)",
   "language": "python",
   "name": "python3"
  },
  "language_info": {
   "codemirror_mode": {
    "name": "ipython",
    "version": 3
   },
   "file_extension": ".py",
   "mimetype": "text/x-python",
   "name": "python",
   "nbconvert_exporter": "python",
   "pygments_lexer": "ipython3",
   "version": "3.12.1"
  }
 },
 "nbformat": 4,
 "nbformat_minor": 5
}
